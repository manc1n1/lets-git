{
 "cells": [
  {
   "cell_type": "code",
   "execution_count": 27,
   "id": "6c9a3ef7",
   "metadata": {},
   "outputs": [],
   "source": [
    "import openmeteo_requests\n",
    "import pandas as pd\n",
    "import requests_cache\n",
    "from datetime import datetime, timedelta\n",
    "from retry_requests import retry"
   ]
  },
  {
   "cell_type": "code",
   "execution_count": 28,
   "id": "405320cc",
   "metadata": {},
   "outputs": [],
   "source": [
    "# Setup the Open-Meteo API client with cache and retry on error\n",
    "cache_session = requests_cache.CachedSession('.cache', expire_after = -1)\n",
    "retry_session = retry(cache_session, retries = 5, backoff_factor = 0.2)\n",
    "openmeteo = openmeteo_requests.Client(session = retry_session)\n",
    "yesterday = datetime.now() - timedelta(1)"
   ]
  },
  {
   "cell_type": "code",
   "execution_count": 29,
   "id": "e1af2192",
   "metadata": {},
   "outputs": [
    {
     "name": "stdout",
     "output_type": "stream",
     "text": [
      "Coordinates 52.5483283996582°E 13.407821655273438°N\n",
      "Elevation 38.0 m asl\n",
      "Timezone b'America/New_York' b'EST'\n",
      "Timezone difference to GMT+0 -18000 s\n",
      "                     date  temperature_2m\n",
      "0     2020-01-01 05:00:00       31.475300\n",
      "1     2020-01-01 06:00:00       30.935301\n",
      "2     2020-01-01 07:00:00       30.125299\n",
      "3     2020-01-01 08:00:00       31.205299\n",
      "4     2020-01-01 09:00:00       34.085300\n",
      "...                   ...             ...\n",
      "35947 2024-02-07 00:00:00             NaN\n",
      "35948 2024-02-07 01:00:00             NaN\n",
      "35949 2024-02-07 02:00:00             NaN\n",
      "35950 2024-02-07 03:00:00             NaN\n",
      "35951 2024-02-07 04:00:00             NaN\n",
      "\n",
      "[35952 rows x 2 columns]\n"
     ]
    }
   ],
   "source": [
    "# Make sure all required weather variables are listed here\n",
    "# The order of variables in hourly or daily is important to assign them correctly below\n",
    "url = \"https://archive-api.open-meteo.com/v1/archive\"\n",
    "params = {\n",
    "\t\"latitude\": 52.52,\n",
    "\t\"longitude\": 13.41,\n",
    "\t\"start_date\": \"2020-01-01\",\n",
    "\t\"end_date\": datetime.strftime(yesterday, '%Y-%m-%d'),\n",
    "\t\"hourly\": \"temperature_2m\",\n",
    "\t\"daily\": [\"temperature_2m_max\", \"temperature_2m_min\", \"temperature_2m_mean\"],\n",
    "\t\"temperature_unit\": \"fahrenheit\",\n",
    "\t\"timezone\": \"America/New_York\"\n",
    "}\n",
    "responses = openmeteo.weather_api(url, params=params)\n",
    "\n",
    "# Process first location. Add a for-loop for multiple locations or weather models\n",
    "response = responses[0]\n",
    "print(f\"Coordinates {response.Latitude()}°E {response.Longitude()}°N\")\n",
    "print(f\"Elevation {response.Elevation()} m asl\")\n",
    "print(f\"Timezone {response.Timezone()} {response.TimezoneAbbreviation()}\")\n",
    "print(f\"Timezone difference to GMT+0 {response.UtcOffsetSeconds()} s\")\n",
    "\n",
    "# Process hourly data. The order of variables needs to be the same as requested.\n",
    "hourly = response.Hourly()\n",
    "hourly_temperature_2m = hourly.Variables(0).ValuesAsNumpy()\n",
    "\n",
    "hourly_data = {\"date\": pd.date_range(\n",
    "\tstart = pd.to_datetime(hourly.Time(), unit = \"s\"),\n",
    "\tend = pd.to_datetime(hourly.TimeEnd(), unit = \"s\"),\n",
    "\tfreq = pd.Timedelta(seconds = hourly.Interval()),\n",
    "\tinclusive = \"left\"\n",
    ")}\n",
    "hourly_data[\"temperature_2m\"] = hourly_temperature_2m\n",
    "\n",
    "hourly_dataframe = pd.DataFrame(data = hourly_data)\n",
    "print(hourly_dataframe)"
   ]
  },
  {
   "cell_type": "code",
   "execution_count": 30,
   "id": "39cd70ba",
   "metadata": {},
   "outputs": [
    {
     "name": "stdout",
     "output_type": "stream",
     "text": [
      "                    date  temperature_2m_max  temperature_2m_min  \\\n",
      "0    2020-01-01 05:00:00           39.305298           25.895300   \n",
      "1    2020-01-02 05:00:00           41.555298           25.355301   \n",
      "2    2020-01-03 05:00:00           43.445301           35.435299   \n",
      "3    2020-01-04 05:00:00           41.555298           31.115299   \n",
      "4    2020-01-05 05:00:00           38.765301           28.685301   \n",
      "...                  ...                 ...                 ...   \n",
      "1493 2024-02-02 05:00:00           48.035301           38.945301   \n",
      "1494 2024-02-03 05:00:00           50.735302           41.825302   \n",
      "1495 2024-02-04 05:00:00           49.475300           41.555298   \n",
      "1496 2024-02-05 05:00:00           48.935303           46.505302   \n",
      "1497 2024-02-06 05:00:00           50.645302           46.775299   \n",
      "\n",
      "      temperature_2m_mean  \n",
      "0               31.936552  \n",
      "1               33.121548  \n",
      "2               41.026546  \n",
      "3               37.261551  \n",
      "4               35.506554  \n",
      "...                   ...  \n",
      "1493            43.955303  \n",
      "1494            47.157803  \n",
      "1495            45.575302  \n",
      "1496            47.896557  \n",
      "1497                  NaN  \n",
      "\n",
      "[1498 rows x 4 columns]\n"
     ]
    }
   ],
   "source": [
    "# Process daily data. The order of variables needs to be the same as requested.\n",
    "daily = response.Daily()\n",
    "daily_temperature_2m_max = daily.Variables(0).ValuesAsNumpy()\n",
    "daily_temperature_2m_min = daily.Variables(1).ValuesAsNumpy()\n",
    "daily_temperature_2m_mean = daily.Variables(2).ValuesAsNumpy()\n",
    "\n",
    "daily_data = {\"date\": pd.date_range(\n",
    "\tstart = pd.to_datetime(daily.Time(), unit = \"s\"),\n",
    "\tend = pd.to_datetime(daily.TimeEnd(), unit = \"s\"),\n",
    "\tfreq = pd.Timedelta(seconds = daily.Interval()),\n",
    "\tinclusive = \"left\"\n",
    ")}\n",
    "daily_data[\"temperature_2m_max\"] = daily_temperature_2m_max\n",
    "daily_data[\"temperature_2m_min\"] = daily_temperature_2m_min\n",
    "daily_data[\"temperature_2m_mean\"] = daily_temperature_2m_mean\n",
    "\n",
    "daily_dataframe = pd.DataFrame(data = daily_data)\n",
    "print(daily_dataframe)"
   ]
  },
  {
   "cell_type": "code",
   "execution_count": 32,
   "id": "f7c7f6f3",
   "metadata": {},
   "outputs": [],
   "source": [
    "daily_dataframe.to_csv(\"../data/weather_data.csv\")"
   ]
  },
  {
   "cell_type": "code",
   "execution_count": null,
   "id": "14c359c5",
   "metadata": {},
   "outputs": [],
   "source": []
  }
 ],
 "metadata": {
  "kernelspec": {
   "display_name": "Python 3 (ipykernel)",
   "language": "python",
   "name": "python3"
  },
  "language_info": {
   "codemirror_mode": {
    "name": "ipython",
    "version": 3
   },
   "file_extension": ".py",
   "mimetype": "text/x-python",
   "name": "python",
   "nbconvert_exporter": "python",
   "pygments_lexer": "ipython3",
   "version": "3.10.0"
  }
 },
 "nbformat": 4,
 "nbformat_minor": 5
}
