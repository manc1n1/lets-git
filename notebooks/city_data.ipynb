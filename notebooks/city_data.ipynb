{
 "cells": [
  {
   "cell_type": "markdown",
   "metadata": {},
   "source": [
    "# Let's Git\n",
    "\n",
    "## Setup imports\n"
   ]
  },
  {
   "cell_type": "code",
   "execution_count": 35,
   "metadata": {},
   "outputs": [
    {
     "data": {
      "text/plain": [
       "{Warning(code=1005, name='FIXED_SIZING_MODE', description=\"'fixed' sizing mode requires width and height to be set\")}"
      ]
     },
     "execution_count": 35,
     "metadata": {},
     "output_type": "execute_result"
    }
   ],
   "source": [
    "# Dependencies\n",
    "from bokeh.core.validation import silence\n",
    "from bokeh.core.validation.warnings import FIXED_SIZING_MODE\n",
    "# import json\n",
    "# import matplotlib.pyplot as plt\n",
    "# import numpy as np\n",
    "import pandas as pd\n",
    "import hvplot.pandas\n",
    "from pprint import pprint\n",
    "import random\n",
    "import requests\n",
    "# import scipy.stats as st\n",
    "\n",
    "# Import API Keys\n",
    "from config import geoapify_key\n",
    "\n",
    "# Silence hvplot warning\n",
    "silence(FIXED_SIZING_MODE, True)"
   ]
  },
  {
   "cell_type": "markdown",
   "metadata": {},
   "source": [
    "## Get data from CSVs\n"
   ]
  },
  {
   "cell_type": "code",
   "execution_count": 36,
   "metadata": {},
   "outputs": [
    {
     "data": {
      "text/html": [
       "<div>\n",
       "<style scoped>\n",
       "    .dataframe tbody tr th:only-of-type {\n",
       "        vertical-align: middle;\n",
       "    }\n",
       "\n",
       "    .dataframe tbody tr th {\n",
       "        vertical-align: top;\n",
       "    }\n",
       "\n",
       "    .dataframe thead th {\n",
       "        text-align: right;\n",
       "    }\n",
       "</style>\n",
       "<table border=\"1\" class=\"dataframe\">\n",
       "  <thead>\n",
       "    <tr style=\"text-align: right;\">\n",
       "      <th></th>\n",
       "      <th>Rank</th>\n",
       "      <th>City</th>\n",
       "      <th>Crime Index</th>\n",
       "      <th>Safety Index</th>\n",
       "    </tr>\n",
       "  </thead>\n",
       "  <tbody>\n",
       "    <tr>\n",
       "      <th>0</th>\n",
       "      <td>1</td>\n",
       "      <td>Caracas, Venezuela</td>\n",
       "      <td>83.98</td>\n",
       "      <td>16.02</td>\n",
       "    </tr>\n",
       "    <tr>\n",
       "      <th>1</th>\n",
       "      <td>2</td>\n",
       "      <td>Pretoria, South Africa</td>\n",
       "      <td>81.98</td>\n",
       "      <td>18.02</td>\n",
       "    </tr>\n",
       "    <tr>\n",
       "      <th>2</th>\n",
       "      <td>3</td>\n",
       "      <td>Celaya, Mexico</td>\n",
       "      <td>81.80</td>\n",
       "      <td>18.20</td>\n",
       "    </tr>\n",
       "    <tr>\n",
       "      <th>3</th>\n",
       "      <td>4</td>\n",
       "      <td>San Pedro Sula, Honduras</td>\n",
       "      <td>80.87</td>\n",
       "      <td>19.13</td>\n",
       "    </tr>\n",
       "    <tr>\n",
       "      <th>4</th>\n",
       "      <td>5</td>\n",
       "      <td>Port Moresby, Papua New Guinea</td>\n",
       "      <td>80.71</td>\n",
       "      <td>19.29</td>\n",
       "    </tr>\n",
       "  </tbody>\n",
       "</table>\n",
       "</div>"
      ],
      "text/plain": [
       "   Rank                            City  Crime Index  Safety Index\n",
       "0     1              Caracas, Venezuela        83.98         16.02\n",
       "1     2          Pretoria, South Africa        81.98         18.02\n",
       "2     3                  Celaya, Mexico        81.80         18.20\n",
       "3     4        San Pedro Sula, Honduras        80.87         19.13\n",
       "4     5  Port Moresby, Papua New Guinea        80.71         19.29"
      ]
     },
     "execution_count": 36,
     "metadata": {},
     "output_type": "execute_result"
    }
   ],
   "source": [
    "crime_data_path = \"../data/world_crime_index.csv\"\n",
    "\n",
    "crime_data = pd.read_csv(crime_data_path)\n",
    "\n",
    "crime_data.head()"
   ]
  },
  {
   "cell_type": "markdown",
   "metadata": {},
   "source": [
    "## Get a randomly generated list of 25 cities\n"
   ]
  },
  {
   "cell_type": "code",
   "execution_count": 37,
   "metadata": {},
   "outputs": [],
   "source": [
    "cities = []\n",
    "crime_index = []\n",
    "random_nums = random.sample(range(0, len(crime_data)), 100)\n",
    "\n",
    "for num in random_nums:\n",
    "    cities.append(crime_data[\"City\"][num])\n",
    "    crime_index.append(crime_data[\"Crime Index\"][num])\n",
    "\n",
    "# pprint(cities)\n",
    "# pprint(crime_index)"
   ]
  },
  {
   "cell_type": "markdown",
   "metadata": {},
   "source": [
    "## Geoapify Geocode\n"
   ]
  },
  {
   "cell_type": "code",
   "execution_count": 38,
   "metadata": {},
   "outputs": [],
   "source": [
    "geo_data = []\n",
    "for city in cities:\n",
    "    target_url = f\"https://api.geoapify.com/v1/geocode/search?text={city}&format=json&apiKey={geoapify_key}\"\n",
    "    req = requests.get(target_url).json()\n",
    "    geo_data.append(req)\n",
    "\n",
    "# print(json.dumps(geo_data, indent=4, sort_keys=True))"
   ]
  },
  {
   "cell_type": "code",
   "execution_count": 39,
   "metadata": {},
   "outputs": [],
   "source": [
    "lon = []\n",
    "lat = []\n",
    "city = []\n",
    "country = []\n",
    "city_data = {\n",
    "    \"city\": city,\n",
    "    \"country\": country,\n",
    "    \"lon\": lon,\n",
    "    \"lat\": lat,\n",
    "    \"crime_index\": crime_index,\n",
    "}\n",
    "\n",
    "counter = 0\n",
    "for data in geo_data:\n",
    "    city.append(geo_data[counter][\"results\"][0][\"city\"])\n",
    "    country.append(geo_data[counter][\"results\"][0][\"country\"])\n",
    "    lon.append(geo_data[counter][\"results\"][0][\"lon\"])\n",
    "    lat.append(geo_data[counter][\"results\"][0][\"lat\"])\n",
    "    counter += 1\n",
    "\n",
    "# pprint(coordinates)"
   ]
  },
  {
   "cell_type": "code",
   "execution_count": 40,
   "metadata": {},
   "outputs": [],
   "source": [
    "city_data_df = pd.DataFrame(city_data)\n",
    "city_data_df.to_csv(\"../data/city_data.csv\", index=False)\n",
    "# coordinates_df"
   ]
  },
  {
   "cell_type": "code",
   "execution_count": 41,
   "metadata": {},
   "outputs": [
    {
     "data": {},
     "metadata": {},
     "output_type": "display_data"
    },
    {
     "data": {
      "application/vnd.holoviews_exec.v0+json": "",
      "text/html": [
       "<div id='p1514'>\n",
       "  <div id=\"fe8593b5-b27d-4129-afa5-38b49a800c73\" data-root-id=\"p1514\" style=\"display: contents;\"></div>\n",
       "</div>\n",
       "<script type=\"application/javascript\">(function(root) {\n",
       "  var docs_json = {\"31340448-4781-41c9-952a-7ff21332e2d6\":{\"version\":\"3.3.4\",\"title\":\"Bokeh Application\",\"roots\":[{\"type\":\"object\",\"name\":\"Row\",\"id\":\"p1514\",\"attributes\":{\"name\":\"Row02176\",\"tags\":[\"embedded\"],\"stylesheets\":[\"\\n:host(.pn-loading.pn-arc):before, .pn-loading.pn-arc:before {\\n  background-image: url(\\\"data:image/svg+xml;base64,PHN2ZyB4bWxucz0iaHR0cDovL3d3dy53My5vcmcvMjAwMC9zdmciIHN0eWxlPSJtYXJnaW46IGF1dG87IGJhY2tncm91bmQ6IG5vbmU7IGRpc3BsYXk6IGJsb2NrOyBzaGFwZS1yZW5kZXJpbmc6IGF1dG87IiB2aWV3Qm94PSIwIDAgMTAwIDEwMCIgcHJlc2VydmVBc3BlY3RSYXRpbz0ieE1pZFlNaWQiPiAgPGNpcmNsZSBjeD0iNTAiIGN5PSI1MCIgZmlsbD0ibm9uZSIgc3Ryb2tlPSIjYzNjM2MzIiBzdHJva2Utd2lkdGg9IjEwIiByPSIzNSIgc3Ryb2tlLWRhc2hhcnJheT0iMTY0LjkzMzYxNDMxMzQ2NDE1IDU2Ljk3Nzg3MTQzNzgyMTM4Ij4gICAgPGFuaW1hdGVUcmFuc2Zvcm0gYXR0cmlidXRlTmFtZT0idHJhbnNmb3JtIiB0eXBlPSJyb3RhdGUiIHJlcGVhdENvdW50PSJpbmRlZmluaXRlIiBkdXI9IjFzIiB2YWx1ZXM9IjAgNTAgNTA7MzYwIDUwIDUwIiBrZXlUaW1lcz0iMDsxIj48L2FuaW1hdGVUcmFuc2Zvcm0+ICA8L2NpcmNsZT48L3N2Zz4=\\\");\\n  background-size: auto calc(min(50%, 400px));\\n}\",{\"type\":\"object\",\"name\":\"ImportedStyleSheet\",\"id\":\"p1517\",\"attributes\":{\"url\":\"https://cdn.holoviz.org/panel/1.3.8/dist/css/loading.css\"}},{\"type\":\"object\",\"name\":\"ImportedStyleSheet\",\"id\":\"p1607\",\"attributes\":{\"url\":\"https://cdn.holoviz.org/panel/1.3.8/dist/css/listpanel.css\"}},{\"type\":\"object\",\"name\":\"ImportedStyleSheet\",\"id\":\"p1515\",\"attributes\":{\"url\":\"https://cdn.holoviz.org/panel/1.3.8/dist/bundled/theme/default.css\"}},{\"type\":\"object\",\"name\":\"ImportedStyleSheet\",\"id\":\"p1516\",\"attributes\":{\"url\":\"https://cdn.holoviz.org/panel/1.3.8/dist/bundled/theme/native.css\"}}],\"margin\":0,\"sizing_mode\":\"stretch_width\",\"align\":\"start\",\"children\":[{\"type\":\"object\",\"name\":\"Spacer\",\"id\":\"p1518\",\"attributes\":{\"name\":\"HSpacer02181\",\"stylesheets\":[\"\\n:host(.pn-loading.pn-arc):before, .pn-loading.pn-arc:before {\\n  background-image: url(\\\"data:image/svg+xml;base64,PHN2ZyB4bWxucz0iaHR0cDovL3d3dy53My5vcmcvMjAwMC9zdmciIHN0eWxlPSJtYXJnaW46IGF1dG87IGJhY2tncm91bmQ6IG5vbmU7IGRpc3BsYXk6IGJsb2NrOyBzaGFwZS1yZW5kZXJpbmc6IGF1dG87IiB2aWV3Qm94PSIwIDAgMTAwIDEwMCIgcHJlc2VydmVBc3BlY3RSYXRpbz0ieE1pZFlNaWQiPiAgPGNpcmNsZSBjeD0iNTAiIGN5PSI1MCIgZmlsbD0ibm9uZSIgc3Ryb2tlPSIjYzNjM2MzIiBzdHJva2Utd2lkdGg9IjEwIiByPSIzNSIgc3Ryb2tlLWRhc2hhcnJheT0iMTY0LjkzMzYxNDMxMzQ2NDE1IDU2Ljk3Nzg3MTQzNzgyMTM4Ij4gICAgPGFuaW1hdGVUcmFuc2Zvcm0gYXR0cmlidXRlTmFtZT0idHJhbnNmb3JtIiB0eXBlPSJyb3RhdGUiIHJlcGVhdENvdW50PSJpbmRlZmluaXRlIiBkdXI9IjFzIiB2YWx1ZXM9IjAgNTAgNTA7MzYwIDUwIDUwIiBrZXlUaW1lcz0iMDsxIj48L2FuaW1hdGVUcmFuc2Zvcm0+ICA8L2NpcmNsZT48L3N2Zz4=\\\");\\n  background-size: auto calc(min(50%, 400px));\\n}\",{\"id\":\"p1517\"},{\"id\":\"p1515\"},{\"id\":\"p1516\"}],\"margin\":0,\"sizing_mode\":\"stretch_width\",\"align\":\"start\"}},{\"type\":\"object\",\"name\":\"Figure\",\"id\":\"p1547\",\"attributes\":{\"width\":null,\"height\":null,\"margin\":[5,10],\"sizing_mode\":\"fixed\",\"align\":\"start\",\"x_range\":{\"type\":\"object\",\"name\":\"Range1d\",\"id\":\"p1528\",\"attributes\":{\"tags\":[[[\"Longitude\",\"Longitude\",null]],[]],\"start\":-15817880.014379436,\"end\":19224656.414715983,\"reset_start\":-15817880.014379436,\"reset_end\":19224656.414715983,\"min_interval\":5}},\"y_range\":{\"type\":\"object\",\"name\":\"Range1d\",\"id\":\"p1529\",\"attributes\":{\"tags\":[[[\"Latitude\",\"Latitude\",null]],{\"type\":\"map\",\"entries\":[[\"invert_yaxis\",false],[\"autorange\",false]]}],\"start\":-9968330.218096262,\"end\":15062052.945543326,\"reset_start\":-9968330.218096262,\"reset_end\":15062052.945543326,\"min_interval\":5}},\"x_scale\":{\"type\":\"object\",\"name\":\"LinearScale\",\"id\":\"p1557\"},\"y_scale\":{\"type\":\"object\",\"name\":\"LinearScale\",\"id\":\"p1558\"},\"title\":{\"type\":\"object\",\"name\":\"Title\",\"id\":\"p1550\",\"attributes\":{\"text_color\":\"black\",\"text_font_size\":\"12pt\"}},\"renderers\":[{\"type\":\"object\",\"name\":\"TileRenderer\",\"id\":\"p1580\",\"attributes\":{\"level\":\"underlay\",\"tile_source\":{\"type\":\"object\",\"name\":\"WMTSTileSource\",\"id\":\"p1576\",\"attributes\":{\"url\":\"https://c.tile.openstreetmap.org/{Z}/{X}/{Y}.png\",\"attribution\":\"&copy; <a href=\\\"https://www.openstreetmap.org/copyright\\\">OpenStreetMap</a> contributors\"}}}},{\"type\":\"object\",\"name\":\"GlyphRenderer\",\"id\":\"p1596\",\"attributes\":{\"data_source\":{\"type\":\"object\",\"name\":\"ColumnDataSource\",\"id\":\"p1585\",\"attributes\":{\"selected\":{\"type\":\"object\",\"name\":\"Selection\",\"id\":\"p1586\",\"attributes\":{\"indices\":[],\"line_indices\":[]}},\"selection_policy\":{\"type\":\"object\",\"name\":\"UnionRenderers\",\"id\":\"p1587\"},\"data\":{\"type\":\"map\",\"entries\":[[\"lon\",{\"type\":\"ndarray\",\"array\":{\"type\":\"bytes\",\"data\":\"svQXj8OnZkFGPJ/Ucs87QT0pjWKY0kdB+af9EAm+NkGGTdMT9XBgwUi5JL5vNyfB+9o+KHLrLUGtqrS6o3xhwamdDIK6K0BBdoHl7wAELUHve4BRelhhwUpJ5Kzd+1PBXwcqMyn+acH/TPmmdakzQWloEkYTokVBcELWmJnQFEGtygg0bR4Fwdhz4H11zgfB2SYd0AIVNkHJL0cRd81jwSxmG2dCVV5BHZ5hJrWWDUETlmEZNl9UQWga1NDTy2nBzXfwFRBXGkHRycGyauDVwCt78GMdMWNBj3kfrHlKZsGArg3z5K9pQXigggmW0lVBCAbuItmIV0FAQ4ls98DLwHRNha8aUWXBOVIsyaelEcGoJaX1TNdBQQ45KQwfRlVBw12XlMrMyUAfuKB7qrVHQbU0Zw1teWBBzeL+HX70YEFjNulGd4tXQTEjdD6MhgTB4iRf7jMXYcGZsdSJ0MtnwWtVrvQP9j1BK8ooGhdOYMGFWtAUwakVwc5i8oNQpDxBOtjJ1fTaCcH+9FntKARFQVHziFfzY2XBFvMu7RCyPkGZi1Y7YblNQY26Nyzf0DJBPVY+RoBWYEEVoD3Y8ghEQeWVsRZqjWTBHTQPbqhMZcHFgXTjEjgvQXbTXWSy4mDBpYhHb+kBPUEcR9QJjqtgwc1Qh+ZmVmBBbJVGRSNrYEF6zxL3DAU1QRv8JudTcAzB84/n1uTHa0Hmh29BS9owQT5YHaUZNDVBJ5jU/zZZMUFAHWQKR8IswQEJNhDn62jBdcYhmZKLbkGCE0xmc2weQZc2/LWz/DBB/I7alrAnQEH8yvwf0D5wQc/roZj2fjhBL+HWa8HaQEFzt4FdVU1EQSHWEiTaYC/BzezyP0ptR0G37K4YQEQzQR41wAaiWS5BghcwrKCZaEFnCSgjmrNpQR1JH8NarG1BfW2I6NdoNkFbVNqWV9QGweHwsg+15B1BbivuOX7rSUHiJ0QR3K9hQeymWwj8W0BB14hJlvUzOEG6oz12muAcwbXXZlr55k3B2PArr0WoMUFqQBnWnJdlQUesww7Qwk1BW3LVqCNmIUE=\"},\"shape\":[100],\"dtype\":\"float64\",\"order\":\"little\"}],[\"lat\",{\"type\":\"ndarray\",\"array\":{\"type\":\"bytes\",\"data\":\"DfheROZpMkGEQJ3upG1XQQv1C6c2E0fBCiNHapNMWkHLTQkJoThRQXqaXGmewk5BVP7stAqxWkFVOOzaojREQYB7BzCL+lZB41QAUrTmVkEd5ZOuHGdTQcxo3qFh/kPBCGgKH6hZUUG988jFB2JXQV9mu3YdVWJBpIapGZIDWUHYAAyhus1WQUynLIwtNFtBO+m1puuIXEG6Pb4dR25VQcroGndJWFlB9pQF4i1WU0H9+OhYnB9KQc2o0KGTyFFB2dw/M8meVEFb8oCShegiQbub8ti6yURB44dkN/ZqUkFWZwryUg45Qba7ELImPlBBfx1Zy9hDRkGZ67fAOppZQUGfSdON4UFBKcZ/hOKQWUFSfgrnzxlaQcF12BOUTkdBkBXBdB8VWkEapWHxWWJUQSbdex65OzZBjHQVRGuhJ0FXwBAuR09GQRPsC0InOVpBAsaKSs2GVEH8JB9qkSxOQUWM3aUx7F9BhTUGkAMKP0Hs1dhrM8xcQfY32iMAMVNBeh4mlehFWkENMZYDiZFfQYktMdCqK0JBSnzA3pt5X0GR8ub4K4lNQWM8Y/VYO1hB8nWvJTnxLEFeoM7wH4ZWQfdnE6gWfk1B+bNKGFOURkFt2qp0bLlVQYZ7oopKulRBxVwxhwyxQ8FeL4ppJ+/XwIMhbKutZlRBFuFc+opWSUFCym+OKn1ZQWuZc7Ljt11BbvBK0IpVNcFgAsgOe6NdQeiupi1toFNBHbyMCmnyXEHVrXZAmN5ZQbzxaOEpuE5Bp50HN+Q7UcHHz8nLauNZQUA9vANjB1tBCz0//kPDWEHzL+wmNUdIwdJ++Eb/pVhBus8iOhSZVUHkbN8gDgJcQfZGFcZY4VFBPa6vLpnEVkFXLSCxSSRVQUnWNhwbF1VBOTIYKumqTMGgmL2qXCk5QSqcRPfvPlBB+1XJzbubXEH+GPVp1V1XQdNGv8NkaFlBBO5N8+5vUkGZ3Ddorpg+QXXryS/V8FNBHGX4LkEHU0H4JSlDUrpcQUwEYCmFwSPBpDLvDmePYUHN6D44uWwVQTWh4U8cmFdBhsKEe8cAWkE=\"},\"shape\":[100],\"dtype\":\"float64\",\"order\":\"little\"}],[\"crime_index\",{\"type\":\"ndarray\",\"array\":{\"type\":\"bytes\",\"data\":\"rkfhehTOSkCamZmZmdk6QDMzMzMzI1RAH4XrUbgeRUDD9Shcj+JHQPYoXI/CFUJAw/UoXI/CREAzMzMzMzM/QEjhehSuh0FAw/UoXI9CMUApXI/C9RhQQI/C9Shcr1BAzczMzMwMTkApXI/C9agyQOF6FK5HQUJACtejcD0qS0DNzMzMzGxQQI/C9Shcz1FA7FG4HoVLTEDNzMzMzIxLQHE9CtejkEBAj8L1KFxvSEDNzMzMzIw+QM3MzMzMTEhAFK5H4XqUS0BxPQrXo3BHQBSuR+F61E9Aj8L1KFxvRkCuR+F6FC5QQFyPwvUo3EtA4XoUrkdhL0CF61G4HqVKQB+F61G4XkJASOF6FK7nREDNzMzMzEw7QArXo3A9Sj5AXI/C9SicPUBxPQrXo5BCQEjhehSuZ0tAuB6F61GYREBI4XoUrkcvQGZmZmZmFlFAXI/C9Sh8REA9CtejcB1KQEjhehSuR0RAXI/C9SjcUUDD9Shcj4I+QDMzMzMzE0pA16NwPQpXT0DXo3A9Cpc3QM3MzMzMrElAXI/C9Sj8RkBcj8L1KNw6QD0K16NwvUBAhetRuB7FQ0ApXI/C9Sg2QFK4HoXrUUlAmpmZmZmZR0DsUbgehWtHQJqZmZmZWUVAKVyPwvUoUUD2KFyPwnVOQHsUrkfhClBAj8L1KFyPTECuR+F6FG5EQNejcD0K10BAXI/C9Sg8TUAK16NwPYo5QK5H4XoUjkpAmpmZmZmZNECkcD0K1wNCQFyPwvUofENAZmZmZmaGS0AUrkfhehRCQEjhehSuR0VA4XoUrkehREBmZmZmZoZBQJqZmZmZGThAFK5H4Xq0REAK16NwPcpCQD0K16NwfUpA9ihcj8LVQECPwvUoXE9HQOF6FK5HQUVArkfhehTOREAfhetRuH5OQArXo3A9yjdAexSuR+H6QEAAAAAAAIBKQEjhehSux0JAXI/C9SjcMkBmZmZmZuZCQJqZmZmZmUdAexSuR+H6TUDXo3A9CvdGQFyPwvUobFNAKVyPwvVoM0AzMzMzM7NPQEjhehSuJ0pAj8L1KFzPOkA=\"},\"shape\":[100],\"dtype\":\"float64\",\"order\":\"little\"}],[\"city\",[\"Ho Chi Minh City\",\"Vienna\",\"Johannesburg\",\"Berlin\",\"Richmond\",\"Rabat\",\"Bremen\",\"Havana\",\"Budapest\",\"Zurich\",\"Cleveland\",\"Campinas\",\"San Francisco\",\"Munich\",\"Oulu\",\"Lille\",\"Nantes\",\"Bradford\",\"Malmo\",\"Minneapolis\",\"Astana\",\"Barcelona\",\"Kuwait City\",\"Sacramento\",\"Montpellier\",\"Accra\",\"Dhaka\",\"Denver\",\"Manila\",\"Tehran\",\"Sharjah\",\"London\",\"Quer\\u00e9taro\",\"Bristol\",\"Warsaw\",\"Dammam\",\"Cambridge\",\"Varna\",\"Bengaluru\",\"Colombo\",\"Ajman\",\"Coventry\",\"Kitchener\",\"Phoenix\",\"Uppsala\",\"Kingston\",\"City of Edinburgh\",\"Bari\",\"Birmingham\",\"Tallinn\",\"San Miguel de Allende\",\"Stockholm\",\"Haifa\",\"Nuremberg\",\"Thiruvananthapuram\",\"Cluj-Napoca\",\"Dallas\",\"Monterrey\",\"Milan\",\"Vaughan\",\"Windhoek\",\"Quito\",\"Almaty\",\"Noida\",\"Leipzig\",\"Aberdeen City\",\"Darwin\",\"Aalborg\",\"Rome\",\"Aarhus\",\"Cork\",\"Riverside\",\"Ballarat\",\"Rotterdam\",\"Hamburg\",\"Katowice\",\"Brisbane City\",\"Prague\",\"Novi Sad\",\"Kaunas\",\"Amadora\",\"Ia\\u0219i\",\"Bologna\",\"Genoa\",\"Perth\",\"Quezon City\",\"Chiyoda\",\"Lund\",\"Rennes\",\"Antwerp\",\"Eskisehir\",\"Visakhapatnam\",\"Podgorica\",\"Naples\",\"Glasgow\",\"Natal\",\"Trondheim\",\"Kuala Lumpur\",\"Dnipro\",\"Utrecht\"]],[\"country\",[\"Vietnam\",\"Austria\",\"South Africa\",\"Germany\",\"United States\",\"Morocco\",\"Germany\",\"Cuba\",\"Hungary\",\"Switzerland\",\"United States\",\"Brazil\",\"United States\",\"Germany\",\"Finland\",\"France\",\"France\",\"United Kingdom\",\"Sweden\",\"United States\",\"Kazakhstan\",\"Spain\",\"Kuwait\",\"United States\",\"France\",\"Ghana\",\"Bangladesh\",\"United States\",\"Philippines\",\"Iran\",\"United Arab Emirates\",\"United Kingdom\",\"Mexico\",\"United Kingdom\",\"Poland\",\"Saudi Arabia\",\"United Kingdom\",\"Bulgaria\",\"India\",\"Sri Lanka\",\"United Arab Emirates\",\"United Kingdom\",\"Canada\",\"United States\",\"Sweden\",\"Jamaica\",\"United Kingdom\",\"Italy\",\"United Kingdom\",\"Estonia\",\"Mexico\",\"Sweden\",\"Israel\",\"Germany\",\"India\",\"Romania\",\"United States\",\"Mexico\",\"Italy\",\"Canada\",\"Namibia\",\"Ecuador\",\"Kazakhstan\",\"India\",\"Germany\",\"United Kingdom\",\"Australia\",\"Denmark\",\"Italy\",\"Denmark\",\"Ireland\",\"United States\",\"Australia\",\"Netherlands\",\"Germany\",\"Poland\",\"Australia\",\"Czechia\",\"Serbia\",\"Lithuania\",\"Portugal\",\"Romania\",\"Italy\",\"Italy\",\"Australia\",\"Philippines\",\"Japan\",\"Sweden\",\"France\",\"Belgium\",\"Turkey\",\"India\",\"Montenegro\",\"Italy\",\"United Kingdom\",\"Brazil\",\"Norway\",\"Malaysia\",\"Ukraine\",\"Netherlands\"]],[\"color\",{\"type\":\"ndarray\",\"array\":{\"type\":\"bytes\",\"data\":\"rkfhehTOSkCamZmZmdk6QDMzMzMzI1RAH4XrUbgeRUDD9Shcj+JHQPYoXI/CFUJAw/UoXI/CREAzMzMzMzM/QEjhehSuh0FAw/UoXI9CMUApXI/C9RhQQI/C9Shcr1BAzczMzMwMTkApXI/C9agyQOF6FK5HQUJACtejcD0qS0DNzMzMzGxQQI/C9Shcz1FA7FG4HoVLTEDNzMzMzIxLQHE9CtejkEBAj8L1KFxvSEDNzMzMzIw+QM3MzMzMTEhAFK5H4XqUS0BxPQrXo3BHQBSuR+F61E9Aj8L1KFxvRkCuR+F6FC5QQFyPwvUo3EtA4XoUrkdhL0CF61G4HqVKQB+F61G4XkJASOF6FK7nREDNzMzMzEw7QArXo3A9Sj5AXI/C9SicPUBxPQrXo5BCQEjhehSuZ0tAuB6F61GYREBI4XoUrkcvQGZmZmZmFlFAXI/C9Sh8REA9CtejcB1KQEjhehSuR0RAXI/C9SjcUUDD9Shcj4I+QDMzMzMzE0pA16NwPQpXT0DXo3A9Cpc3QM3MzMzMrElAXI/C9Sj8RkBcj8L1KNw6QD0K16NwvUBAhetRuB7FQ0ApXI/C9Sg2QFK4HoXrUUlAmpmZmZmZR0DsUbgehWtHQJqZmZmZWUVAKVyPwvUoUUD2KFyPwnVOQHsUrkfhClBAj8L1KFyPTECuR+F6FG5EQNejcD0K10BAXI/C9Sg8TUAK16NwPYo5QK5H4XoUjkpAmpmZmZmZNECkcD0K1wNCQFyPwvUofENAZmZmZmaGS0AUrkfhehRCQEjhehSuR0VA4XoUrkehREBmZmZmZoZBQJqZmZmZGThAFK5H4Xq0REAK16NwPcpCQD0K16NwfUpA9ihcj8LVQECPwvUoXE9HQOF6FK5HQUVArkfhehTOREAfhetRuH5OQArXo3A9yjdAexSuR+H6QEAAAAAAAIBKQEjhehSux0JAXI/C9SjcMkBmZmZmZuZCQJqZmZmZmUdAexSuR+H6TUDXo3A9CvdGQFyPwvUobFNAKVyPwvVoM0AzMzMzM7NPQEjhehSuJ0pAj8L1KFzPOkA=\"},\"shape\":[100],\"dtype\":\"float64\",\"order\":\"little\"}],[\"size\",{\"type\":\"ndarray\",\"array\":{\"type\":\"bytes\",\"data\":\"6SrnOJxJLUD96SowD7okQJMw3qIu8zFARvO9Vjb/KUBThMZmdqUrQN8oL1V9DihAuSg4dz/GKUC0XmKywFcmQOG66I9BrydAzVhuVzmeIEC5Dg8HdgwwQJOGjNjCVjBA1QPSHnoCL0AWj4dCZUchQMR+XPBdKyhA9VxKPsp7LUAVvdMgCzYwQKOR2l954TBAyIyR+iwXLkDqnhCCFrEtQDJ6A+MBBidABL1lMHz2K0A/pVG+2xsmQJFgx9Ku4itA54SJrjm1LUA9Ss7+OGMrQIYXmgU26i9ApVEof0XLKkARrW2++RYwQOAeOai72y1AoTH1d0CwH0AzMzMzMzMtQPDrE1HTPihAmvlsNkDdKUCkYbC4VuYkQLQ8ne+4AyZA4Y7kchrEJUC5dn5/rl8oQNl+AQUPnS1AjaXvZ/mrKUAF9bXQUKMfQKivcmzpiDBAzEwzY2aaKUBKDPE6e+gsQL1EcoCFeSlAHzS6M4nnMECBsrLfJhgmQGUzIsTP4ixAA+39cBSrL0D95IdKhW0jQMpFenHfqSxArRZNQNceK0DGHM0dDLskQE0GbhwPJSdAnMvje/8mKUB2G2Fka9QiQNua7I/3dixAUgNxbBx7K0AddeMZO2ArQEhVXC5aIypAMnF41OGRMEAVpSkWczgvQFq1Z7dvBTBAXkcbAyo7LkB4cjVZmJEpQGSeU+C6NidALShr4hWWLkDhwj4mADckQGX4zI2QJi1A+/uz0KYnIkB61jg5jwIoQMY5Efxq+ChAXPI1bKOtLUAl5tlgow0oQNRDk7NfGCpArE0ZZI6xKUBRBBQvZK4nQA0VB8v+oiNAtgH0bIC9KUBC7sQAYYUoQDEbpwJtHS1AqgHuAdk1J0BeXyvTwE8rQIqWuNZyFCpAEbbSM2XNKUC1bX9DCj0vQAbeKTGPgiNAt/Z0pGFPJ0Dp+3Yg1R4tQOd7l1K1gyhAwAm+nwlfIUDYcTj/uZcoQFIDcWwceytAm08Uujn5LkDsEWrP0RsrQBNEAOvdoDFAeRcXGGqfIUCihoxzgtkvQPZPSpUl7ixAs1/6ABu2JEA=\"},\"shape\":[100],\"dtype\":\"float64\",\"order\":\"little\"}]]}}},\"view\":{\"type\":\"object\",\"name\":\"CDSView\",\"id\":\"p1597\",\"attributes\":{\"filter\":{\"type\":\"object\",\"name\":\"AllIndices\",\"id\":\"p1598\"}}},\"glyph\":{\"type\":\"object\",\"name\":\"Scatter\",\"id\":\"p1591\",\"attributes\":{\"tags\":[\"apply_ranges\"],\"x\":{\"type\":\"field\",\"field\":\"lon\"},\"y\":{\"type\":\"field\",\"field\":\"lat\"},\"size\":{\"type\":\"field\",\"field\":\"size\"},\"line_color\":{\"type\":\"field\",\"field\":\"color\",\"transform\":{\"type\":\"object\",\"name\":\"LinearColorMapper\",\"id\":\"p1584\",\"attributes\":{\"palette\":[\"#b3fef5\",\"#b0fef5\",\"#adfdf5\",\"#a9fcf5\",\"#a6fbf6\",\"#a3faf6\",\"#a0faf6\",\"#9df9f6\",\"#9af8f6\",\"#97f7f6\",\"#93f7f6\",\"#90f6f6\",\"#8df5f6\",\"#8af4f7\",\"#87f3f7\",\"#83f2f7\",\"#80f2f7\",\"#7df1f7\",\"#79f0f7\",\"#76eff7\",\"#73eef7\",\"#6fedf8\",\"#6cecf8\",\"#68ecf8\",\"#65ebf8\",\"#61eaf8\",\"#5ee9f8\",\"#5ae8f8\",\"#57e7f8\",\"#53e6f8\",\"#50e5f9\",\"#4ce4f9\",\"#49e3f9\",\"#45e2f9\",\"#42e1f9\",\"#3ee0f9\",\"#3bdff9\",\"#38def9\",\"#35ddf9\",\"#32dcf9\",\"#30dbfa\",\"#2ed9fa\",\"#2dd8fa\",\"#2cd7fa\",\"#2bd6fa\",\"#2bd5fa\",\"#2ad3fa\",\"#2ad2fa\",\"#29d1fa\",\"#29d0fb\",\"#29cffb\",\"#28cdfb\",\"#28ccfb\",\"#28cbfb\",\"#28cafb\",\"#28c8fb\",\"#28c7fb\",\"#29c6fb\",\"#29c5fb\",\"#29c4fb\",\"#29c2fb\",\"#2ac1fb\",\"#2ac0fb\",\"#2bbffb\",\"#2bbdfc\",\"#2cbcfc\",\"#2dbbfc\",\"#2db9fc\",\"#2eb8fc\",\"#2fb7fc\",\"#2fb6fc\",\"#30b4fc\",\"#31b3fc\",\"#32b2fc\",\"#32b0fc\",\"#33affc\",\"#33aefc\",\"#34adfc\",\"#34abfc\",\"#34aafc\",\"#35a9fc\",\"#35a8fc\",\"#35a6fc\",\"#35a5fc\",\"#35a4fc\",\"#35a3fc\",\"#35a1fc\",\"#35a0fc\",\"#359ffc\",\"#359dfc\",\"#359cfc\",\"#359bfc\",\"#349afd\",\"#3498fd\",\"#3497fd\",\"#3396fd\",\"#3395fd\",\"#3293fd\",\"#3292fd\",\"#3191fd\",\"#3090fd\",\"#308ffd\",\"#2f8dfd\",\"#2f8cfd\",\"#2e8bfd\",\"#2e8afd\",\"#2d88fd\",\"#2d87fd\",\"#2c86fd\",\"#2c84fd\",\"#2c83fd\",\"#2c82fd\",\"#2b81fd\",\"#2b7ffd\",\"#2b7efd\",\"#2b7dfd\",\"#2b7bfd\",\"#2b7afd\",\"#2b79fd\",\"#2b77fd\",\"#2b76fd\",\"#2b75fd\",\"#2b73fd\",\"#2c72fd\",\"#2c71fd\",\"#2c6ffd\",\"#2c6efd\",\"#2d6cfd\",\"#2d6bfd\",\"#2d6afc\",\"#2e68fc\",\"#2e67fc\",\"#2e65fc\",\"#2e64fc\",\"#2f62fc\",\"#2f61fc\",\"#2f5ffc\",\"#2f5efc\",\"#2f5dfc\",\"#2f5bfc\",\"#2f5afc\",\"#2f58fb\",\"#2f57fb\",\"#2f55fb\",\"#2f53fb\",\"#2f52fb\",\"#2f50fb\",\"#2f4ffb\",\"#2f4dfb\",\"#2e4cfb\",\"#2e4afb\",\"#2e48fb\",\"#2e47fa\",\"#2d45fa\",\"#2d43fa\",\"#2d42fa\",\"#2d40fa\",\"#2c3efa\",\"#2c3dfa\",\"#2b3bf9\",\"#2b39f9\",\"#2a37f9\",\"#2a36f8\",\"#2934f8\",\"#2832f7\",\"#2831f7\",\"#272ff6\",\"#262ef5\",\"#252cf5\",\"#252af4\",\"#2429f3\",\"#2327f2\",\"#2226f1\",\"#2124f0\",\"#2023ef\",\"#1f22ee\",\"#1e20ed\",\"#1d1feb\",\"#1c1eea\",\"#1b1ce9\",\"#1a1be7\",\"#181ae6\",\"#1719e5\",\"#1618e3\",\"#1417e1\",\"#1316e0\",\"#1215de\",\"#1014dc\",\"#0f13db\",\"#0e12d9\",\"#0d11d7\",\"#0c10d5\",\"#0b0fd3\",\"#0a0ed1\",\"#090dd0\",\"#080dce\",\"#080ccc\",\"#070bca\",\"#070ac8\",\"#0709c6\",\"#0708c4\",\"#0707c2\",\"#0707bf\",\"#0806bd\",\"#0806bb\",\"#0905b9\",\"#0904b7\",\"#0a04b5\",\"#0a04b2\",\"#0b03b0\",\"#0c03ae\",\"#0d02ab\",\"#0e02a9\",\"#0e02a7\",\"#0f02a4\",\"#0f01a2\",\"#1001a0\",\"#10019d\",\"#10019b\",\"#100199\",\"#100197\",\"#100194\",\"#0f0192\",\"#0f0190\",\"#0f018e\",\"#0e018b\",\"#0e0189\",\"#0d0187\",\"#0d0185\",\"#0c0183\",\"#0b0181\",\"#0b017e\",\"#0a017c\",\"#09017a\",\"#090178\",\"#080276\",\"#070274\",\"#060272\",\"#060270\",\"#05026e\",\"#04026c\",\"#030269\",\"#030267\",\"#020265\",\"#010263\",\"#010261\",\"#00025f\",\"#00025d\",\"#00025b\",\"#000259\",\"#000257\",\"#000255\",\"#000154\",\"#000152\",\"#000150\",\"#00004e\"],\"low\":15.64,\"high\":80.55}}},\"line_alpha\":{\"type\":\"value\",\"value\":0.9},\"fill_color\":{\"type\":\"field\",\"field\":\"color\",\"transform\":{\"id\":\"p1584\"}},\"fill_alpha\":{\"type\":\"value\",\"value\":0.9},\"hatch_color\":{\"type\":\"field\",\"field\":\"color\",\"transform\":{\"id\":\"p1584\"}},\"hatch_alpha\":{\"type\":\"value\",\"value\":0.9}}},\"selection_glyph\":{\"type\":\"object\",\"name\":\"Scatter\",\"id\":\"p1593\",\"attributes\":{\"tags\":[\"apply_ranges\"],\"x\":{\"type\":\"field\",\"field\":\"lon\"},\"y\":{\"type\":\"field\",\"field\":\"lat\"},\"size\":{\"type\":\"field\",\"field\":\"size\"},\"line_color\":{\"type\":\"field\",\"field\":\"color\",\"transform\":{\"id\":\"p1584\"}},\"line_alpha\":{\"type\":\"value\",\"value\":0.9},\"fill_color\":{\"type\":\"field\",\"field\":\"color\",\"transform\":{\"id\":\"p1584\"}},\"fill_alpha\":{\"type\":\"value\",\"value\":0.9},\"hatch_color\":{\"type\":\"field\",\"field\":\"color\",\"transform\":{\"id\":\"p1584\"}},\"hatch_alpha\":{\"type\":\"value\",\"value\":0.9}}},\"nonselection_glyph\":{\"type\":\"object\",\"name\":\"Scatter\",\"id\":\"p1592\",\"attributes\":{\"tags\":[\"apply_ranges\"],\"x\":{\"type\":\"field\",\"field\":\"lon\"},\"y\":{\"type\":\"field\",\"field\":\"lat\"},\"size\":{\"type\":\"field\",\"field\":\"size\"},\"line_color\":{\"type\":\"field\",\"field\":\"color\",\"transform\":{\"id\":\"p1584\"}},\"line_alpha\":{\"type\":\"value\",\"value\":0.9},\"fill_color\":{\"type\":\"field\",\"field\":\"color\",\"transform\":{\"id\":\"p1584\"}},\"fill_alpha\":{\"type\":\"value\",\"value\":0.9},\"hatch_color\":{\"type\":\"field\",\"field\":\"color\",\"transform\":{\"id\":\"p1584\"}},\"hatch_alpha\":{\"type\":\"value\",\"value\":0.1}}},\"hover_glyph\":{\"type\":\"object\",\"name\":\"Scatter\",\"id\":\"p1594\",\"attributes\":{\"tags\":[\"apply_ranges\"],\"x\":{\"type\":\"field\",\"field\":\"lon\"},\"y\":{\"type\":\"field\",\"field\":\"lat\"},\"size\":{\"type\":\"field\",\"field\":\"size\"},\"line_color\":{\"type\":\"field\",\"field\":\"color\",\"transform\":{\"id\":\"p1584\"}},\"line_alpha\":{\"type\":\"value\",\"value\":0.9},\"fill_color\":{\"type\":\"field\",\"field\":\"color\",\"transform\":{\"id\":\"p1584\"}},\"fill_alpha\":{\"type\":\"value\",\"value\":0.9},\"hatch_color\":{\"type\":\"field\",\"field\":\"color\",\"transform\":{\"id\":\"p1584\"}},\"hatch_alpha\":{\"type\":\"value\",\"value\":0.9}}},\"muted_glyph\":{\"type\":\"object\",\"name\":\"Scatter\",\"id\":\"p1595\",\"attributes\":{\"tags\":[\"apply_ranges\"],\"x\":{\"type\":\"field\",\"field\":\"lon\"},\"y\":{\"type\":\"field\",\"field\":\"lat\"},\"size\":{\"type\":\"field\",\"field\":\"size\"},\"line_color\":{\"type\":\"field\",\"field\":\"color\",\"transform\":{\"id\":\"p1584\"}},\"line_alpha\":{\"type\":\"value\",\"value\":0.2},\"fill_color\":{\"type\":\"field\",\"field\":\"color\",\"transform\":{\"id\":\"p1584\"}},\"fill_alpha\":{\"type\":\"value\",\"value\":0.2},\"hatch_color\":{\"type\":\"field\",\"field\":\"color\",\"transform\":{\"id\":\"p1584\"}},\"hatch_alpha\":{\"type\":\"value\",\"value\":0.2}}}}}],\"toolbar\":{\"type\":\"object\",\"name\":\"Toolbar\",\"id\":\"p1556\",\"attributes\":{\"tools\":[{\"type\":\"object\",\"name\":\"WheelZoomTool\",\"id\":\"p1532\",\"attributes\":{\"renderers\":\"auto\",\"zoom_on_axis\":false}},{\"type\":\"object\",\"name\":\"BoxZoomTool\",\"id\":\"p1533\",\"attributes\":{\"overlay\":{\"type\":\"object\",\"name\":\"BoxAnnotation\",\"id\":\"p1006\",\"attributes\":{\"syncable\":false,\"level\":\"overlay\",\"visible\":false,\"left\":{\"type\":\"number\",\"value\":\"nan\"},\"right\":{\"type\":\"number\",\"value\":\"nan\"},\"top\":{\"type\":\"number\",\"value\":\"nan\"},\"bottom\":{\"type\":\"number\",\"value\":\"nan\"},\"left_units\":\"canvas\",\"right_units\":\"canvas\",\"top_units\":\"canvas\",\"bottom_units\":\"canvas\",\"line_color\":\"black\",\"line_alpha\":1.0,\"line_width\":2,\"line_dash\":[4,4],\"fill_color\":\"lightgrey\",\"fill_alpha\":0.5}},\"match_aspect\":true}},{\"type\":\"object\",\"name\":\"HoverTool\",\"id\":\"p1546\",\"attributes\":{\"tags\":[\"hv_created\"],\"renderers\":[{\"id\":\"p1596\"}],\"tooltips\":[[\"lon\",\"$x{custom}\"],[\"lat\",\"$y{custom}\"],[\"crime_index\",\"@{crime_index}\"],[\"city\",\"@{city}\"],[\"country\",\"@{country}\"]],\"formatters\":{\"type\":\"map\",\"entries\":[[\"$x\",{\"type\":\"object\",\"name\":\"CustomJSHover\",\"id\":\"p1602\",\"attributes\":{\"code\":\"\\n        const projections = Bokeh.require(\\\"core/util/projections\\\");\\n        const {snap_x, snap_y} = special_vars\\n        const coords = projections.wgs84_mercator.invert(snap_x, snap_y)\\n        return \\\"\\\" + (coords[0]).toFixed(4)\\n    \"}}],[\"$y\",{\"type\":\"object\",\"name\":\"CustomJSHover\",\"id\":\"p1603\",\"attributes\":{\"code\":\"\\n        const projections = Bokeh.require(\\\"core/util/projections\\\");\\n        const {snap_x, snap_y} = special_vars\\n        const coords = projections.wgs84_mercator.invert(snap_x, snap_y)\\n        return \\\"\\\" + (coords[1]).toFixed(4)\\n    \"}}]]}}},{\"type\":\"object\",\"name\":\"PanTool\",\"id\":\"p1570\"},{\"type\":\"object\",\"name\":\"ResetTool\",\"id\":\"p1571\"}],\"active_drag\":{\"id\":\"p1570\"}}},\"left\":[{\"type\":\"object\",\"name\":\"LinearAxis\",\"id\":\"p1564\",\"attributes\":{\"ticker\":{\"type\":\"object\",\"name\":\"MercatorTicker\",\"id\":\"p1574\",\"attributes\":{\"mantissas\":[1,2,5],\"dimension\":\"lat\"}},\"formatter\":{\"type\":\"object\",\"name\":\"MercatorTickFormatter\",\"id\":\"p1575\",\"attributes\":{\"dimension\":\"lat\"}},\"axis_label\":\"Latitude\",\"major_label_policy\":{\"type\":\"object\",\"name\":\"AllLabels\",\"id\":\"p1567\"}}}],\"right\":[{\"type\":\"object\",\"name\":\"ColorBar\",\"id\":\"p1600\",\"attributes\":{\"location\":[0,0],\"ticker\":{\"type\":\"object\",\"name\":\"BasicTicker\",\"id\":\"p1599\",\"attributes\":{\"mantissas\":[1,2,5]}},\"major_label_policy\":{\"type\":\"object\",\"name\":\"NoOverlap\",\"id\":\"p1601\"},\"label_standoff\":8,\"major_tick_line_color\":\"black\",\"bar_line_color\":\"black\",\"color_mapper\":{\"id\":\"p1584\"}}}],\"below\":[{\"type\":\"object\",\"name\":\"LinearAxis\",\"id\":\"p1559\",\"attributes\":{\"ticker\":{\"type\":\"object\",\"name\":\"MercatorTicker\",\"id\":\"p1572\",\"attributes\":{\"mantissas\":[1,2,5],\"dimension\":\"lon\"}},\"formatter\":{\"type\":\"object\",\"name\":\"MercatorTickFormatter\",\"id\":\"p1573\",\"attributes\":{\"dimension\":\"lon\"}},\"axis_label\":\"Longitude\",\"major_label_policy\":{\"type\":\"object\",\"name\":\"AllLabels\",\"id\":\"p1562\"}}}],\"center\":[{\"type\":\"object\",\"name\":\"Grid\",\"id\":\"p1563\",\"attributes\":{\"axis\":{\"id\":\"p1559\"},\"grid_line_color\":null}},{\"type\":\"object\",\"name\":\"Grid\",\"id\":\"p1568\",\"attributes\":{\"dimension\":1,\"axis\":{\"id\":\"p1564\"},\"grid_line_color\":null}}],\"frame_width\":700,\"frame_height\":500,\"min_border_top\":10,\"min_border_bottom\":10,\"min_border_left\":10,\"min_border_right\":10,\"output_backend\":\"webgl\",\"match_aspect\":true}},{\"type\":\"object\",\"name\":\"Spacer\",\"id\":\"p1605\",\"attributes\":{\"name\":\"HSpacer02182\",\"stylesheets\":[\"\\n:host(.pn-loading.pn-arc):before, .pn-loading.pn-arc:before {\\n  background-image: url(\\\"data:image/svg+xml;base64,PHN2ZyB4bWxucz0iaHR0cDovL3d3dy53My5vcmcvMjAwMC9zdmciIHN0eWxlPSJtYXJnaW46IGF1dG87IGJhY2tncm91bmQ6IG5vbmU7IGRpc3BsYXk6IGJsb2NrOyBzaGFwZS1yZW5kZXJpbmc6IGF1dG87IiB2aWV3Qm94PSIwIDAgMTAwIDEwMCIgcHJlc2VydmVBc3BlY3RSYXRpbz0ieE1pZFlNaWQiPiAgPGNpcmNsZSBjeD0iNTAiIGN5PSI1MCIgZmlsbD0ibm9uZSIgc3Ryb2tlPSIjYzNjM2MzIiBzdHJva2Utd2lkdGg9IjEwIiByPSIzNSIgc3Ryb2tlLWRhc2hhcnJheT0iMTY0LjkzMzYxNDMxMzQ2NDE1IDU2Ljk3Nzg3MTQzNzgyMTM4Ij4gICAgPGFuaW1hdGVUcmFuc2Zvcm0gYXR0cmlidXRlTmFtZT0idHJhbnNmb3JtIiB0eXBlPSJyb3RhdGUiIHJlcGVhdENvdW50PSJpbmRlZmluaXRlIiBkdXI9IjFzIiB2YWx1ZXM9IjAgNTAgNTA7MzYwIDUwIDUwIiBrZXlUaW1lcz0iMDsxIj48L2FuaW1hdGVUcmFuc2Zvcm0+ICA8L2NpcmNsZT48L3N2Zz4=\\\");\\n  background-size: auto calc(min(50%, 400px));\\n}\",{\"id\":\"p1517\"},{\"id\":\"p1515\"},{\"id\":\"p1516\"}],\"margin\":0,\"sizing_mode\":\"stretch_width\",\"align\":\"start\"}}]}}],\"defs\":[{\"type\":\"model\",\"name\":\"ReactiveHTML1\"},{\"type\":\"model\",\"name\":\"FlexBox1\",\"properties\":[{\"name\":\"align_content\",\"kind\":\"Any\",\"default\":\"flex-start\"},{\"name\":\"align_items\",\"kind\":\"Any\",\"default\":\"flex-start\"},{\"name\":\"flex_direction\",\"kind\":\"Any\",\"default\":\"row\"},{\"name\":\"flex_wrap\",\"kind\":\"Any\",\"default\":\"wrap\"},{\"name\":\"justify_content\",\"kind\":\"Any\",\"default\":\"flex-start\"}]},{\"type\":\"model\",\"name\":\"FloatPanel1\",\"properties\":[{\"name\":\"config\",\"kind\":\"Any\",\"default\":{\"type\":\"map\"}},{\"name\":\"contained\",\"kind\":\"Any\",\"default\":true},{\"name\":\"position\",\"kind\":\"Any\",\"default\":\"right-top\"},{\"name\":\"offsetx\",\"kind\":\"Any\",\"default\":null},{\"name\":\"offsety\",\"kind\":\"Any\",\"default\":null},{\"name\":\"theme\",\"kind\":\"Any\",\"default\":\"primary\"},{\"name\":\"status\",\"kind\":\"Any\",\"default\":\"normalized\"}]},{\"type\":\"model\",\"name\":\"GridStack1\",\"properties\":[{\"name\":\"mode\",\"kind\":\"Any\",\"default\":\"warn\"},{\"name\":\"ncols\",\"kind\":\"Any\",\"default\":null},{\"name\":\"nrows\",\"kind\":\"Any\",\"default\":null},{\"name\":\"allow_resize\",\"kind\":\"Any\",\"default\":true},{\"name\":\"allow_drag\",\"kind\":\"Any\",\"default\":true},{\"name\":\"state\",\"kind\":\"Any\",\"default\":[]}]},{\"type\":\"model\",\"name\":\"drag1\",\"properties\":[{\"name\":\"slider_width\",\"kind\":\"Any\",\"default\":5},{\"name\":\"slider_color\",\"kind\":\"Any\",\"default\":\"black\"},{\"name\":\"value\",\"kind\":\"Any\",\"default\":50}]},{\"type\":\"model\",\"name\":\"click1\",\"properties\":[{\"name\":\"terminal_output\",\"kind\":\"Any\",\"default\":\"\"},{\"name\":\"debug_name\",\"kind\":\"Any\",\"default\":\"\"},{\"name\":\"clears\",\"kind\":\"Any\",\"default\":0}]},{\"type\":\"model\",\"name\":\"copy_to_clipboard1\",\"properties\":[{\"name\":\"fill\",\"kind\":\"Any\",\"default\":\"none\"},{\"name\":\"value\",\"kind\":\"Any\",\"default\":null}]},{\"type\":\"model\",\"name\":\"FastWrapper1\",\"properties\":[{\"name\":\"object\",\"kind\":\"Any\",\"default\":null},{\"name\":\"style\",\"kind\":\"Any\",\"default\":null}]},{\"type\":\"model\",\"name\":\"NotificationAreaBase1\",\"properties\":[{\"name\":\"js_events\",\"kind\":\"Any\",\"default\":{\"type\":\"map\"}},{\"name\":\"position\",\"kind\":\"Any\",\"default\":\"bottom-right\"},{\"name\":\"_clear\",\"kind\":\"Any\",\"default\":0}]},{\"type\":\"model\",\"name\":\"NotificationArea1\",\"properties\":[{\"name\":\"js_events\",\"kind\":\"Any\",\"default\":{\"type\":\"map\"}},{\"name\":\"notifications\",\"kind\":\"Any\",\"default\":[]},{\"name\":\"position\",\"kind\":\"Any\",\"default\":\"bottom-right\"},{\"name\":\"_clear\",\"kind\":\"Any\",\"default\":0},{\"name\":\"types\",\"kind\":\"Any\",\"default\":[{\"type\":\"map\",\"entries\":[[\"type\",\"warning\"],[\"background\",\"#ffc107\"],[\"icon\",{\"type\":\"map\",\"entries\":[[\"className\",\"fas fa-exclamation-triangle\"],[\"tagName\",\"i\"],[\"color\",\"white\"]]}]]},{\"type\":\"map\",\"entries\":[[\"type\",\"info\"],[\"background\",\"#007bff\"],[\"icon\",{\"type\":\"map\",\"entries\":[[\"className\",\"fas fa-info-circle\"],[\"tagName\",\"i\"],[\"color\",\"white\"]]}]]}]}]},{\"type\":\"model\",\"name\":\"Notification\",\"properties\":[{\"name\":\"background\",\"kind\":\"Any\",\"default\":null},{\"name\":\"duration\",\"kind\":\"Any\",\"default\":3000},{\"name\":\"icon\",\"kind\":\"Any\",\"default\":null},{\"name\":\"message\",\"kind\":\"Any\",\"default\":\"\"},{\"name\":\"notification_type\",\"kind\":\"Any\",\"default\":null},{\"name\":\"_destroyed\",\"kind\":\"Any\",\"default\":false}]},{\"type\":\"model\",\"name\":\"TemplateActions1\",\"properties\":[{\"name\":\"open_modal\",\"kind\":\"Any\",\"default\":0},{\"name\":\"close_modal\",\"kind\":\"Any\",\"default\":0}]},{\"type\":\"model\",\"name\":\"BootstrapTemplateActions1\",\"properties\":[{\"name\":\"open_modal\",\"kind\":\"Any\",\"default\":0},{\"name\":\"close_modal\",\"kind\":\"Any\",\"default\":0}]},{\"type\":\"model\",\"name\":\"MaterialTemplateActions1\",\"properties\":[{\"name\":\"open_modal\",\"kind\":\"Any\",\"default\":0},{\"name\":\"close_modal\",\"kind\":\"Any\",\"default\":0}]}]}};\n",
       "  var render_items = [{\"docid\":\"31340448-4781-41c9-952a-7ff21332e2d6\",\"roots\":{\"p1514\":\"fe8593b5-b27d-4129-afa5-38b49a800c73\"},\"root_ids\":[\"p1514\"]}];\n",
       "  var docs = Object.values(docs_json)\n",
       "  if (!docs) {\n",
       "    return\n",
       "  }\n",
       "  const py_version = docs[0].version.replace('rc', '-rc.').replace('.dev', '-dev.')\n",
       "  function embed_document(root) {\n",
       "    var Bokeh = get_bokeh(root)\n",
       "    Bokeh.embed.embed_items_notebook(docs_json, render_items);\n",
       "    for (const render_item of render_items) {\n",
       "      for (const root_id of render_item.root_ids) {\n",
       "\tconst id_el = document.getElementById(root_id)\n",
       "\tif (id_el.children.length && (id_el.children[0].className === 'bk-root')) {\n",
       "\t  const root_el = id_el.children[0]\n",
       "\t  root_el.id = root_el.id + '-rendered'\n",
       "\t}\n",
       "      }\n",
       "    }\n",
       "  }\n",
       "  function get_bokeh(root) {\n",
       "    if (root.Bokeh === undefined) {\n",
       "      return null\n",
       "    } else if (root.Bokeh.version !== py_version) {\n",
       "      if (root.Bokeh.versions === undefined || !root.Bokeh.versions.has(py_version)) {\n",
       "\treturn null\n",
       "      }\n",
       "      return root.Bokeh.versions.get(py_version);\n",
       "    } else if (root.Bokeh.version === py_version) {\n",
       "      return root.Bokeh\n",
       "    }\n",
       "    return null\n",
       "  }\n",
       "  function is_loaded(root) {\n",
       "    var Bokeh = get_bokeh(root)\n",
       "    return (Bokeh != null && Bokeh.Panel !== undefined)\n",
       "  }\n",
       "  if (is_loaded(root)) {\n",
       "    embed_document(root);\n",
       "  } else {\n",
       "    var attempts = 0;\n",
       "    var timer = setInterval(function(root) {\n",
       "      if (is_loaded(root)) {\n",
       "        clearInterval(timer);\n",
       "        embed_document(root);\n",
       "      } else if (document.readyState == \"complete\") {\n",
       "        attempts++;\n",
       "        if (attempts > 200) {\n",
       "          clearInterval(timer);\n",
       "\t  var Bokeh = get_bokeh(root)\n",
       "\t  if (Bokeh == null || Bokeh.Panel == null) {\n",
       "            console.warn(\"Panel: ERROR: Unable to run Panel code because Bokeh or Panel library is missing\");\n",
       "\t  } else {\n",
       "\t    console.warn(\"Panel: WARNING: Attempting to render but not all required libraries could be resolved.\")\n",
       "\t    embed_document(root)\n",
       "\t  }\n",
       "        }\n",
       "      }\n",
       "    }, 25, root)\n",
       "  }\n",
       "})(window);</script>"
      ],
      "text/plain": [
       ":Overlay\n",
       "   .WMTS.I   :WMTS   [Longitude,Latitude]\n",
       "   .Points.I :Points   [lon,lat]   (crime_index,city,country)"
      ]
     },
     "execution_count": 41,
     "metadata": {
      "application/vnd.holoviews_exec.v0+json": {
       "id": "p1514"
      }
     },
     "output_type": "execute_result"
    }
   ],
   "source": [
    "crime_index_map_plot = city_data_df.hvplot.points(\n",
    "    \"lon\",\n",
    "    \"lat\",\n",
    "    geo=True,\n",
    "    tiles=\"OSM\",\n",
    "    frame_width=700,\n",
    "    frame_height=500,\n",
    "    s=\"crime_index\",\n",
    "    c=\"crime_index\",\n",
    "    scale=2,\n",
    "    alpha=0.9,\n",
    "    hover=True,\n",
    "    hover_cols=[\"lon\", \"lat\", \"city\", \"country\", \"crime_index\"],\n",
    ")\n",
    "\n",
    "hvplot.save(crime_index_map_plot, \"../data/crime_index_map.html\")\n",
    "\n",
    "crime_index_map_plot"
   ]
  }
 ],
 "metadata": {
  "kernelspec": {
   "display_name": "Python 3 (ipykernel)",
   "language": "python",
   "name": "python3"
  },
  "language_info": {
   "codemirror_mode": {
    "name": "ipython",
    "version": 3
   },
   "file_extension": ".py",
   "mimetype": "text/x-python",
   "name": "python",
   "nbconvert_exporter": "python",
   "pygments_lexer": "ipython3",
   "version": "3.10.0"
  }
 },
 "nbformat": 4,
 "nbformat_minor": 2
}
