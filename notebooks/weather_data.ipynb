{
 "cells": [
  {
   "cell_type": "code",
   "execution_count": 36,
   "id": "6c9a3ef7",
   "metadata": {},
   "outputs": [],
   "source": [
    "import openmeteo_requests\n",
    "import pandas as pd\n",
    "import requests_cache\n",
    "from datetime import datetime, timedelta\n",
    "from retry_requests import retry"
   ]
  },
  {
   "cell_type": "code",
   "execution_count": 37,
   "id": "405320cc",
   "metadata": {},
   "outputs": [],
   "source": [
    "# Setup the Open-Meteo API client with cache and retry on error\n",
    "cache_session = requests_cache.CachedSession('.cache', expire_after = -1)\n",
    "retry_session = retry(cache_session, retries = 5, backoff_factor = 0.2)\n",
    "openmeteo = openmeteo_requests.Client(session = retry_session)"
   ]
  },
  {
   "cell_type": "code",
   "execution_count": 38,
   "id": "5f020f5c",
   "metadata": {},
   "outputs": [],
   "source": [
    "city_data_path = \"../data/city_data.csv\"\n",
    "city_data = pd.read_csv(city_data_path)"
   ]
  },
  {
   "cell_type": "code",
   "execution_count": 39,
   "id": "c6b8279d",
   "metadata": {},
   "outputs": [],
   "source": [
    "url = \"https://archive-api.open-meteo.com/v1/archive\"\n",
    "res_list = []\n",
    "\n",
    "city_index = 0\n",
    "for city in city_data[\"city\"]:\n",
    "    params = {\n",
    "        \"latitude\": city_data[\"lat\"][city_index],\n",
    "        \"longitude\": city_data[\"lon\"][city_index],\n",
    "        \"start_date\": \"2020-01-01\",\n",
    "        \"end_date\": datetime.strftime(datetime.now() - timedelta(3), \"%Y-%m-%d\"),\n",
    "        \"hourly\": \"temperature_2m\",\n",
    "        \"daily\": \"temperature_2m_mean\",\n",
    "        \"temperature_unit\": \"fahrenheit\",\n",
    "        \"timezone\": \"auto\",\n",
    "    }\n",
    "    res_list.append(openmeteo.weather_api(url, params=params))\n",
    "    city_index += 1\n",
    "\n",
    "city_index = 0\n",
    "data_list = []\n",
    "for res in res_list:\n",
    "    hourly = res[0].Hourly()\n",
    "    hourly_temperature_2m = hourly.Variables(0).ValuesAsNumpy()\n",
    "\n",
    "    hourly_data = {\n",
    "        \"date\": pd.date_range(\n",
    "            start=pd.to_datetime(hourly.Time(), unit=\"s\"),\n",
    "            end=pd.to_datetime(hourly.TimeEnd(), unit=\"s\"),\n",
    "            freq=pd.Timedelta(seconds=hourly.Interval()),\n",
    "            inclusive=\"left\",\n",
    "        )\n",
    "    }\n",
    "    hourly_data[\"temperature_2m\"] = hourly_temperature_2m\n",
    "\n",
    "    hourly_dataframe = pd.DataFrame(data=hourly_data)\n",
    "\n",
    "    daily = res[0].Daily()\n",
    "    daily_temperature_2m_mean = daily.Variables(0).ValuesAsNumpy()\n",
    "\n",
    "    daily_data = {\n",
    "        \"date\": pd.date_range(\n",
    "            start=pd.to_datetime(daily.Time(), unit=\"s\"),\n",
    "            end=pd.to_datetime(daily.TimeEnd(), unit=\"s\"),\n",
    "            freq=pd.Timedelta(seconds=daily.Interval()),\n",
    "            inclusive=\"left\",\n",
    "        )\n",
    "    }\n",
    "    daily_data[\"temperature_2m_mean\"] = daily_temperature_2m_mean\n",
    "    daily_data[\"city\"] = city_data[\"city\"][city_index]\n",
    "    \n",
    "    daily_dataframe = pd.DataFrame(data=daily_data)\n",
    "\n",
    "    data_list.append(daily_dataframe)\n",
    "\n",
    "    city_index += 1\n",
    "\n",
    "data_con = pd.concat(data_list)\n",
    "\n",
    "data_merge = data_con.merge(city_data, how=\"inner\", on=\"city\")"
   ]
  },
  {
   "cell_type": "code",
   "execution_count": null,
   "id": "f7c7f6f3",
   "metadata": {},
   "outputs": [],
   "source": [
    "data_merge.to_csv(\"../data/weather_data.csv\", index=False)"
   ]
  }
 ],
 "metadata": {
  "kernelspec": {
   "display_name": "Python 3 (ipykernel)",
   "language": "python",
   "name": "python3"
  },
  "language_info": {
   "codemirror_mode": {
    "name": "ipython",
    "version": 3
   },
   "file_extension": ".py",
   "mimetype": "text/x-python",
   "name": "python",
   "nbconvert_exporter": "python",
   "pygments_lexer": "ipython3",
   "version": "3.10.0"
  }
 },
 "nbformat": 4,
 "nbformat_minor": 5
}
